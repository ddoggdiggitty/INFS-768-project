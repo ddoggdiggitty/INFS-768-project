{
 "cells": [
  {
   "cell_type": "code",
   "execution_count": 16,
   "metadata": {},
   "outputs": [],
   "source": [
    "# Imports\n",
    "import numpy as np\n",
    "import matplotlib.pyplot as plt\n",
    "import pandas as pd\n",
    "from IPython.display import display\n",
    "from sklearn.model_selection import train_test_split\n",
    "from sklearn.neighbors import KNeighborsClassifier\n",
    "from sklearn.tree import DecisionTreeClassifier\n",
    "from sklearn.preprocessing import StandardScaler"
   ]
  },
  {
   "attachments": {},
   "cell_type": "markdown",
   "metadata": {},
   "source": [
    "# Comparison: KNN vs. Decision Trees\n",
    "\n"
   ]
  },
  {
   "cell_type": "code",
   "execution_count": 17,
   "metadata": {},
   "outputs": [],
   "source": [
    "tree = DecisionTreeClassifier(random_state=0)\n",
    "knn = KNeighborsClassifier()\n",
    "\n",
    "\n",
    "# import the scaled data and split into training and test sets\n",
    "X_train_scaled, X_test_scaled, y_train_scaled, y_test_scaled = train_test_split(pd.read_csv(\"X_scaled.csv\"), pd.read_csv(\"y.csv\"), random_state=0)\n",
    "y_train_scaled = np.ravel(y_train_scaled)\n",
    "y_test_scaled = np.ravel(y_test_scaled)\n",
    "\n",
    "tree.fit(X_train_scaled, y_train_scaled)\n",
    "knn.fit(X_train_scaled, y_train_scaled)\n",
    "display() # hacky way to clear the output"
   ]
  },
  {
   "cell_type": "code",
   "execution_count": 18,
   "metadata": {},
   "outputs": [
    {
     "data": {
      "text/plain": [
       "0.9185218165627783"
      ]
     },
     "metadata": {},
     "output_type": "display_data"
    },
    {
     "data": {
      "text/plain": [
       "0.8483971504897596"
      ]
     },
     "metadata": {},
     "output_type": "display_data"
    }
   ],
   "source": [
    "display(tree.score(X_test_scaled, y_test_scaled), knn.score(X_test_scaled, y_test_scaled))"
   ]
  }
 ],
 "metadata": {
  "kernelspec": {
   "display_name": "Python 3.11.0 ('env-infs768': venv)",
   "language": "python",
   "name": "python3"
  },
  "language_info": {
   "codemirror_mode": {
    "name": "ipython",
    "version": 3
   },
   "file_extension": ".py",
   "mimetype": "text/x-python",
   "name": "python",
   "nbconvert_exporter": "python",
   "pygments_lexer": "ipython3",
   "version": "3.11.0"
  },
  "orig_nbformat": 4,
  "vscode": {
   "interpreter": {
    "hash": "8bd121de4aeb61ea8b61853af45da9c0e9dec6b603fbe91f85bea4ba32a7bbe5"
   }
  }
 },
 "nbformat": 4,
 "nbformat_minor": 2
}
