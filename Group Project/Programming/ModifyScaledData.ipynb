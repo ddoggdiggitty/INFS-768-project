{
 "cells": [
  {
   "cell_type": "code",
   "execution_count": 12,
   "metadata": {},
   "outputs": [],
   "source": [
    "# Imports\n",
    "# # Data types and classes\n",
    "from pandas import DataFrame, Series, Index\n",
    "from numpy import ndarray, floating, uint16\n",
    "# #\n",
    "import pandas as pd\n",
    "from IPython.display import display\n",
    "from sklearn.preprocessing import MinMaxScaler\n",
    "# #\n",
    "import numpy as np\n",
    "import matplotlib.pyplot as plt\n",
    "from sklearn.model_selection import train_test_split, cross_val_score\n",
    "from sklearn.neighbors import KNeighborsClassifier\n",
    "# # Decision Tree for comparison\n",
    "from sklearn.tree import DecisionTreeClassifier\n",
    "from IPython.display import Image\n",
    "# # If any figures change, set to true\n",
    "gen_new_plot: bool = False"
   ]
  },
  {
   "cell_type": "code",
   "execution_count": 13,
   "metadata": {},
   "outputs": [
    {
     "name": "stdout",
     "output_type": "stream",
     "text": [
      "mpg_col_name: 'mpg scaled * 7.0'\n"
     ]
    }
   ],
   "source": [
    "mpg_weight: float = 7.0\n",
    "\n",
    "# use mpg_col_name to rename the columns after adjusting the \"mpg scaled\" feature\n",
    "mpg_col_name: str = \"mpg scaled * \" + str(mpg_weight)\n",
    "print(\"mpg_col_name: \\'\" + mpg_col_name + \"\\'\")"
   ]
  },
  {
   "cell_type": "code",
   "execution_count": 14,
   "metadata": {},
   "outputs": [],
   "source": [
    "X_scaled = pd.read_csv(\"X_scaled.csv\")\n",
    "y = pd.read_csv(\"y.csv\")"
   ]
  },
  {
   "cell_type": "code",
   "execution_count": 15,
   "metadata": {},
   "outputs": [
    {
     "data": {
      "text/html": [
       "<div>\n",
       "<style scoped>\n",
       "    .dataframe tbody tr th:only-of-type {\n",
       "        vertical-align: middle;\n",
       "    }\n",
       "\n",
       "    .dataframe tbody tr th {\n",
       "        vertical-align: top;\n",
       "    }\n",
       "\n",
       "    .dataframe thead th {\n",
       "        text-align: right;\n",
       "    }\n",
       "</style>\n",
       "<table border=\"1\" class=\"dataframe\">\n",
       "  <thead>\n",
       "    <tr style=\"text-align: right;\">\n",
       "      <th></th>\n",
       "      <th>year scaled</th>\n",
       "      <th>price scaled</th>\n",
       "      <th>mileage scaled</th>\n",
       "      <th>engineSize scaled</th>\n",
       "      <th>Automatic scaled</th>\n",
       "      <th>Manual scaled</th>\n",
       "      <th>Semi-Auto scaled</th>\n",
       "      <th>Diesel scaled</th>\n",
       "      <th>Electric scaled</th>\n",
       "      <th>Hybrid scaled</th>\n",
       "      <th>Petrol scaled</th>\n",
       "      <th>mpg scaled * 7.0</th>\n",
       "    </tr>\n",
       "  </thead>\n",
       "  <tbody>\n",
       "    <tr>\n",
       "      <th>0</th>\n",
       "      <td>0.875000</td>\n",
       "      <td>0.211101</td>\n",
       "      <td>0.089747</td>\n",
       "      <td>0.2</td>\n",
       "      <td>1.0</td>\n",
       "      <td>0.0</td>\n",
       "      <td>0.0</td>\n",
       "      <td>0.0</td>\n",
       "      <td>0.0</td>\n",
       "      <td>0.0</td>\n",
       "      <td>1.0</td>\n",
       "      <td>1.427072</td>\n",
       "    </tr>\n",
       "    <tr>\n",
       "      <th>1</th>\n",
       "      <td>0.916667</td>\n",
       "      <td>0.247798</td>\n",
       "      <td>0.051125</td>\n",
       "      <td>0.2</td>\n",
       "      <td>0.0</td>\n",
       "      <td>1.0</td>\n",
       "      <td>0.0</td>\n",
       "      <td>0.0</td>\n",
       "      <td>0.0</td>\n",
       "      <td>0.0</td>\n",
       "      <td>1.0</td>\n",
       "      <td>1.427072</td>\n",
       "    </tr>\n",
       "    <tr>\n",
       "      <th>2</th>\n",
       "      <td>0.875000</td>\n",
       "      <td>0.229450</td>\n",
       "      <td>0.070113</td>\n",
       "      <td>0.2</td>\n",
       "      <td>0.0</td>\n",
       "      <td>1.0</td>\n",
       "      <td>0.0</td>\n",
       "      <td>0.0</td>\n",
       "      <td>0.0</td>\n",
       "      <td>0.0</td>\n",
       "      <td>1.0</td>\n",
       "      <td>1.427072</td>\n",
       "    </tr>\n",
       "    <tr>\n",
       "      <th>3</th>\n",
       "      <td>0.958333</td>\n",
       "      <td>0.312018</td>\n",
       "      <td>0.058877</td>\n",
       "      <td>0.3</td>\n",
       "      <td>0.0</td>\n",
       "      <td>1.0</td>\n",
       "      <td>0.0</td>\n",
       "      <td>0.0</td>\n",
       "      <td>0.0</td>\n",
       "      <td>0.0</td>\n",
       "      <td>1.0</td>\n",
       "      <td>0.754144</td>\n",
       "    </tr>\n",
       "    <tr>\n",
       "      <th>4</th>\n",
       "      <td>0.958333</td>\n",
       "      <td>0.293670</td>\n",
       "      <td>0.008337</td>\n",
       "      <td>0.2</td>\n",
       "      <td>1.0</td>\n",
       "      <td>0.0</td>\n",
       "      <td>0.0</td>\n",
       "      <td>0.0</td>\n",
       "      <td>0.0</td>\n",
       "      <td>0.0</td>\n",
       "      <td>1.0</td>\n",
       "      <td>1.079006</td>\n",
       "    </tr>\n",
       "  </tbody>\n",
       "</table>\n",
       "</div>"
      ],
      "text/plain": [
       "   year scaled  price scaled  mileage scaled  engineSize scaled  \\\n",
       "0     0.875000      0.211101        0.089747                0.2   \n",
       "1     0.916667      0.247798        0.051125                0.2   \n",
       "2     0.875000      0.229450        0.070113                0.2   \n",
       "3     0.958333      0.312018        0.058877                0.3   \n",
       "4     0.958333      0.293670        0.008337                0.2   \n",
       "\n",
       "   Automatic scaled  Manual scaled  Semi-Auto scaled  Diesel scaled  \\\n",
       "0               1.0            0.0               0.0            0.0   \n",
       "1               0.0            1.0               0.0            0.0   \n",
       "2               0.0            1.0               0.0            0.0   \n",
       "3               0.0            1.0               0.0            0.0   \n",
       "4               1.0            0.0               0.0            0.0   \n",
       "\n",
       "   Electric scaled  Hybrid scaled  Petrol scaled  mpg scaled * 7.0  \n",
       "0              0.0            0.0            1.0          1.427072  \n",
       "1              0.0            0.0            1.0          1.427072  \n",
       "2              0.0            0.0            1.0          1.427072  \n",
       "3              0.0            0.0            1.0          0.754144  \n",
       "4              0.0            0.0            1.0          1.079006  "
      ]
     },
     "metadata": {},
     "output_type": "display_data"
    }
   ],
   "source": [
    "# adjust the 'mpg scaled' feature\n",
    "mpg_scaled: DataFrame = X_scaled[\"mpg scaled\"].to_frame(name=mpg_col_name)*mpg_weight\n",
    "X_scaled_mpg_x_7_0: DataFrame = pd.concat([X_scaled.drop(\"mpg scaled\", axis=1), mpg_scaled], axis=1)\n",
    "display(X_scaled_mpg_x_7_0.head())"
   ]
  },
  {
   "cell_type": "code",
   "execution_count": 16,
   "metadata": {},
   "outputs": [],
   "source": [
    "X_scaled_mpg_x_7_0.to_csv(\"X_scaled_mpg_x_7.0.csv\", index=False)"
   ]
  }
 ],
 "metadata": {
  "kernelspec": {
   "display_name": "env-infs768",
   "language": "python",
   "name": "python3"
  },
  "language_info": {
   "codemirror_mode": {
    "name": "ipython",
    "version": 3
   },
   "file_extension": ".py",
   "mimetype": "text/x-python",
   "name": "python",
   "nbconvert_exporter": "python",
   "pygments_lexer": "ipython3",
   "version": "3.11.0"
  },
  "orig_nbformat": 4,
  "vscode": {
   "interpreter": {
    "hash": "8bd121de4aeb61ea8b61853af45da9c0e9dec6b603fbe91f85bea4ba32a7bbe5"
   }
  }
 },
 "nbformat": 4,
 "nbformat_minor": 2
}
