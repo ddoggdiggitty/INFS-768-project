{
 "cells": [
  {
   "cell_type": "code",
   "execution_count": 1,
   "metadata": {},
   "outputs": [
    {
     "name": "stderr",
     "output_type": "stream",
     "text": [
      "WARNING: pip is being invoked by an old script wrapper. This will fail in a future version of pip.\n",
      "Please see https://github.com/pypa/pip/issues/5599 for advice on fixing the underlying issue.\n",
      "To avoid this problem you can invoke Python with '-m pip' instead of running pip directly.\n"
     ]
    },
    {
     "data": {
      "text/html": [
       "<pre style=\"white-space:pre;overflow-x:auto;line-height:normal;font-family:Menlo,'DejaVu Sans Mono',consolas,'Courier New',monospace\">Requirement already satisfied: seaborn in o:\\onedrive\\documents\\d2l fall 2022\\infs 768 - predictive analytics\\env-infs768\\lib\\site-packages (0.12.1)\n",
       "</pre>\n"
      ],
      "text/plain": [
       "Requirement already satisfied: seaborn in o:\\onedrive\\documents\\d2l fall 2022\\infs 768 - predictive analytics\\env-infs768\\lib\\site-packages (0.12.1)\n"
      ]
     },
     "metadata": {},
     "output_type": "display_data"
    },
    {
     "data": {
      "text/html": [
       "<pre style=\"white-space:pre;overflow-x:auto;line-height:normal;font-family:Menlo,'DejaVu Sans Mono',consolas,'Courier New',monospace\">Requirement already satisfied: pandas&gt;=0.25 in o:\\onedrive\\documents\\d2l fall 2022\\infs 768 - predictive analytics\\env-infs768\\lib\\site-packages (from seaborn) (1.5.0)\n",
       "</pre>\n"
      ],
      "text/plain": [
       "Requirement already satisfied: pandas>=0.25 in o:\\onedrive\\documents\\d2l fall 2022\\infs 768 - predictive analytics\\env-infs768\\lib\\site-packages (from seaborn) (1.5.0)\n"
      ]
     },
     "metadata": {},
     "output_type": "display_data"
    },
    {
     "data": {
      "text/html": [
       "<pre style=\"white-space:pre;overflow-x:auto;line-height:normal;font-family:Menlo,'DejaVu Sans Mono',consolas,'Courier New',monospace\">Requirement already satisfied: matplotlib!=3.6.1,&gt;=3.1 in o:\\onedrive\\documents\\d2l fall 2022\\infs 768 - predictive analytics\\env-infs768\\lib\\site-packages (from seaborn) (3.6.0)\n",
       "</pre>\n"
      ],
      "text/plain": [
       "Requirement already satisfied: matplotlib!=3.6.1,>=3.1 in o:\\onedrive\\documents\\d2l fall 2022\\infs 768 - predictive analytics\\env-infs768\\lib\\site-packages (from seaborn) (3.6.0)\n"
      ]
     },
     "metadata": {},
     "output_type": "display_data"
    },
    {
     "data": {
      "text/html": [
       "<pre style=\"white-space:pre;overflow-x:auto;line-height:normal;font-family:Menlo,'DejaVu Sans Mono',consolas,'Courier New',monospace\">Requirement already satisfied: numpy&gt;=1.17 in o:\\onedrive\\documents\\d2l fall 2022\\infs 768 - predictive analytics\\env-infs768\\lib\\site-packages (from seaborn) (1.23.3)\n",
       "</pre>\n"
      ],
      "text/plain": [
       "Requirement already satisfied: numpy>=1.17 in o:\\onedrive\\documents\\d2l fall 2022\\infs 768 - predictive analytics\\env-infs768\\lib\\site-packages (from seaborn) (1.23.3)\n"
      ]
     },
     "metadata": {},
     "output_type": "display_data"
    },
    {
     "data": {
      "text/html": [
       "<pre style=\"white-space:pre;overflow-x:auto;line-height:normal;font-family:Menlo,'DejaVu Sans Mono',consolas,'Courier New',monospace\">Requirement already satisfied: fonttools&gt;=4.22.0 in o:\\onedrive\\documents\\d2l fall 2022\\infs 768 - predictive analytics\\env-infs768\\lib\\site-packages (from matplotlib!=3.6.1,&gt;=3.1-&gt;seaborn) (4.37.4)\n",
       "</pre>\n"
      ],
      "text/plain": [
       "Requirement already satisfied: fonttools>=4.22.0 in o:\\onedrive\\documents\\d2l fall 2022\\infs 768 - predictive analytics\\env-infs768\\lib\\site-packages (from matplotlib!=3.6.1,>=3.1->seaborn) (4.37.4)\n"
      ]
     },
     "metadata": {},
     "output_type": "display_data"
    },
    {
     "data": {
      "text/html": [
       "<pre style=\"white-space:pre;overflow-x:auto;line-height:normal;font-family:Menlo,'DejaVu Sans Mono',consolas,'Courier New',monospace\">Requirement already satisfied: packaging&gt;=20.0 in o:\\onedrive\\documents\\d2l fall 2022\\infs 768 - predictive analytics\\env-infs768\\lib\\site-packages (from matplotlib!=3.6.1,&gt;=3.1-&gt;seaborn) (21.3)\n",
       "</pre>\n"
      ],
      "text/plain": [
       "Requirement already satisfied: packaging>=20.0 in o:\\onedrive\\documents\\d2l fall 2022\\infs 768 - predictive analytics\\env-infs768\\lib\\site-packages (from matplotlib!=3.6.1,>=3.1->seaborn) (21.3)\n"
      ]
     },
     "metadata": {},
     "output_type": "display_data"
    },
    {
     "data": {
      "text/html": [
       "<pre style=\"white-space:pre;overflow-x:auto;line-height:normal;font-family:Menlo,'DejaVu Sans Mono',consolas,'Courier New',monospace\">Requirement already satisfied: contourpy&gt;=1.0.1 in o:\\onedrive\\documents\\d2l fall 2022\\infs 768 - predictive analytics\\env-infs768\\lib\\site-packages (from matplotlib!=3.6.1,&gt;=3.1-&gt;seaborn) (1.0.5)\n",
       "</pre>\n"
      ],
      "text/plain": [
       "Requirement already satisfied: contourpy>=1.0.1 in o:\\onedrive\\documents\\d2l fall 2022\\infs 768 - predictive analytics\\env-infs768\\lib\\site-packages (from matplotlib!=3.6.1,>=3.1->seaborn) (1.0.5)\n"
      ]
     },
     "metadata": {},
     "output_type": "display_data"
    },
    {
     "data": {
      "text/html": [
       "<pre style=\"white-space:pre;overflow-x:auto;line-height:normal;font-family:Menlo,'DejaVu Sans Mono',consolas,'Courier New',monospace\">Requirement already satisfied: pyparsing&gt;=2.2.1 in o:\\onedrive\\documents\\d2l fall 2022\\infs 768 - predictive analytics\\env-infs768\\lib\\site-packages (from matplotlib!=3.6.1,&gt;=3.1-&gt;seaborn) (3.0.9)\n",
       "</pre>\n"
      ],
      "text/plain": [
       "Requirement already satisfied: pyparsing>=2.2.1 in o:\\onedrive\\documents\\d2l fall 2022\\infs 768 - predictive analytics\\env-infs768\\lib\\site-packages (from matplotlib!=3.6.1,>=3.1->seaborn) (3.0.9)\n"
      ]
     },
     "metadata": {},
     "output_type": "display_data"
    },
    {
     "data": {
      "text/html": [
       "<pre style=\"white-space:pre;overflow-x:auto;line-height:normal;font-family:Menlo,'DejaVu Sans Mono',consolas,'Courier New',monospace\">Requirement already satisfied: kiwisolver&gt;=1.0.1 in o:\\onedrive\\documents\\d2l fall 2022\\infs 768 - predictive analytics\\env-infs768\\lib\\site-packages (from matplotlib!=3.6.1,&gt;=3.1-&gt;seaborn) (1.4.4)\n",
       "</pre>\n"
      ],
      "text/plain": [
       "Requirement already satisfied: kiwisolver>=1.0.1 in o:\\onedrive\\documents\\d2l fall 2022\\infs 768 - predictive analytics\\env-infs768\\lib\\site-packages (from matplotlib!=3.6.1,>=3.1->seaborn) (1.4.4)\n"
      ]
     },
     "metadata": {},
     "output_type": "display_data"
    },
    {
     "data": {
      "text/html": [
       "<pre style=\"white-space:pre;overflow-x:auto;line-height:normal;font-family:Menlo,'DejaVu Sans Mono',consolas,'Courier New',monospace\">Requirement already satisfied: python-dateutil&gt;=2.7 in o:\\onedrive\\documents\\d2l fall 2022\\infs 768 - predictive analytics\\env-infs768\\lib\\site-packages (from matplotlib!=3.6.1,&gt;=3.1-&gt;seaborn) (2.8.2)\n",
       "</pre>\n"
      ],
      "text/plain": [
       "Requirement already satisfied: python-dateutil>=2.7 in o:\\onedrive\\documents\\d2l fall 2022\\infs 768 - predictive analytics\\env-infs768\\lib\\site-packages (from matplotlib!=3.6.1,>=3.1->seaborn) (2.8.2)\n"
      ]
     },
     "metadata": {},
     "output_type": "display_data"
    },
    {
     "data": {
      "text/html": [
       "<pre style=\"white-space:pre;overflow-x:auto;line-height:normal;font-family:Menlo,'DejaVu Sans Mono',consolas,'Courier New',monospace\">Requirement already satisfied: pillow&gt;=6.2.0 in o:\\onedrive\\documents\\d2l fall 2022\\infs 768 - predictive analytics\\env-infs768\\lib\\site-packages (from matplotlib!=3.6.1,&gt;=3.1-&gt;seaborn) (9.2.0)\n",
       "</pre>\n"
      ],
      "text/plain": [
       "Requirement already satisfied: pillow>=6.2.0 in o:\\onedrive\\documents\\d2l fall 2022\\infs 768 - predictive analytics\\env-infs768\\lib\\site-packages (from matplotlib!=3.6.1,>=3.1->seaborn) (9.2.0)\n"
      ]
     },
     "metadata": {},
     "output_type": "display_data"
    },
    {
     "data": {
      "text/html": [
       "<pre style=\"white-space:pre;overflow-x:auto;line-height:normal;font-family:Menlo,'DejaVu Sans Mono',consolas,'Courier New',monospace\">Requirement already satisfied: cycler&gt;=0.10 in o:\\onedrive\\documents\\d2l fall 2022\\infs 768 - predictive analytics\\env-infs768\\lib\\site-packages (from matplotlib!=3.6.1,&gt;=3.1-&gt;seaborn) (0.11.0)\n",
       "</pre>\n"
      ],
      "text/plain": [
       "Requirement already satisfied: cycler>=0.10 in o:\\onedrive\\documents\\d2l fall 2022\\infs 768 - predictive analytics\\env-infs768\\lib\\site-packages (from matplotlib!=3.6.1,>=3.1->seaborn) (0.11.0)\n"
      ]
     },
     "metadata": {},
     "output_type": "display_data"
    },
    {
     "data": {
      "text/html": [
       "<pre style=\"white-space:pre;overflow-x:auto;line-height:normal;font-family:Menlo,'DejaVu Sans Mono',consolas,'Courier New',monospace\">Requirement already satisfied: pytz&gt;=2020.1 in o:\\onedrive\\documents\\d2l fall 2022\\infs 768 - predictive analytics\\env-infs768\\lib\\site-packages (from pandas&gt;=0.25-&gt;seaborn) (2022.4)\n",
       "</pre>\n"
      ],
      "text/plain": [
       "Requirement already satisfied: pytz>=2020.1 in o:\\onedrive\\documents\\d2l fall 2022\\infs 768 - predictive analytics\\env-infs768\\lib\\site-packages (from pandas>=0.25->seaborn) (2022.4)\n"
      ]
     },
     "metadata": {},
     "output_type": "display_data"
    },
    {
     "data": {
      "text/html": [
       "<pre style=\"white-space:pre;overflow-x:auto;line-height:normal;font-family:Menlo,'DejaVu Sans Mono',consolas,'Courier New',monospace\">Requirement already satisfied: six&gt;=1.5 in o:\\onedrive\\documents\\d2l fall 2022\\infs 768 - predictive analytics\\env-infs768\\lib\\site-packages (from python-dateutil&gt;=2.7-&gt;matplotlib!=3.6.1,&gt;=3.1-&gt;seaborn) (1.16.0)\n",
       "</pre>\n"
      ],
      "text/plain": [
       "Requirement already satisfied: six>=1.5 in o:\\onedrive\\documents\\d2l fall 2022\\infs 768 - predictive analytics\\env-infs768\\lib\\site-packages (from python-dateutil>=2.7->matplotlib!=3.6.1,>=3.1->seaborn) (1.16.0)\n"
      ]
     },
     "metadata": {},
     "output_type": "display_data"
    }
   ],
   "source": [
    "# Imports\n",
    "import numpy as np\n",
    "import matplotlib.pyplot as plt\n",
    "import pandas as pd\n",
    "from sklearn.preprocessing import LabelEncoder\n",
    "from IPython.display import display\n",
    "from sklearn.model_selection import train_test_split\n",
    "from sklearn.neighbors import KNeighborsClassifier\n",
    "\n",
    "# Produce knn boundary graphs\n",
    "from sklearn.inspection import DecisionBoundaryDisplay\n",
    "import seaborn as sns\n",
    "\n",
    "# Import datatypes for parameter type specification\n",
    "from pandas.core import frame\n",
    "from sklearn.preprocessing._label import LabelEncoder"
   ]
  },
  {
   "cell_type": "code",
   "execution_count": null,
   "metadata": {},
   "outputs": [],
   "source": [
    "# read scaled data for non-target attributes\n",
    "X = pd.read_csv(\"X.csv\")\n",
    "MIN = pd.read_csv(\"MIN.csv\")\n",
    "MAX = pd.read_csv(\"MAX.csv\")\n",
    "\n",
    "# read the target attribute\n",
    "y = pd.read_csv(\"y.csv\")\n",
    "display(y)"
   ]
  },
  {
   "cell_type": "code",
   "execution_count": null,
   "metadata": {},
   "outputs": [],
   "source": [
    "# encode a single column from a dataframe\n",
    "def encode_y(y:frame.DataFrame) -> dict:\n",
    "    y = y.squeeze()\n",
    "    labEnc_y = LabelEncoder()\n",
    "    labEnc_y = labEnc_y.fit(y)\n",
    "    y = pd.DataFrame(labEnc_y.transform(y), columns=[y.name])\n",
    "    return dict(y=y,encoder=labEnc_y)\n",
    "\n",
    "def unencode_y(y:frame.DataFrame, encoder:LabelEncoder):\n",
    "    # use sklearn.preprocessing.LabelEncoder.inverse_transform() \n",
    "    # to revert the encoded data\n",
    "    y = y.squeeze()\n",
    "    return(pd.DataFrame(encoder.inverse_transform(y), columns=[y.name]))"
   ]
  },
  {
   "attachments": {},
   "cell_type": "markdown",
   "metadata": {},
   "source": [
    "# study interactions"
   ]
  },
  {
   "cell_type": "code",
   "execution_count": null,
   "metadata": {},
   "outputs": [],
   "source": [
    "X_train, X_test, y_train, y_test = train_test_split(X, y, random_state=0)"
   ]
  },
  {
   "cell_type": "code",
   "execution_count": null,
   "metadata": {},
   "outputs": [],
   "source": [
    "encode_yItem = encode_y(y_train)\n",
    "labels_train = encode_yItem.get(\"y\")\n",
    "encoder = encode_yItem.get(\"encoder\")"
   ]
  },
  {
   "cell_type": "code",
   "execution_count": null,
   "metadata": {},
   "outputs": [],
   "source": [
    "display(y_train.head())\n",
    "pd.plotting.scatter_matrix(X_train,\n",
    "                           c=labels_train.squeeze(),\n",
    "                           hist_kwds={'bins':20},\n",
    "                           figsize=(15,15))\n",
    "plt.show()\n",
    "print(type(y_train), type(y_test))"
   ]
  },
  {
   "attachments": {},
   "cell_type": "markdown",
   "metadata": {},
   "source": [
    "# Plot a 2d knn as an example"
   ]
  },
  {
   "attachments": {},
   "cell_type": "markdown",
   "metadata": {},
   "source": [
    "### Select two attributes for the KNN model"
   ]
  },
  {
   "cell_type": "code",
   "execution_count": null,
   "metadata": {},
   "outputs": [],
   "source": [
    "names = [\"mpg\", \"price\"]\n",
    "X2d = X_train.loc[:, [names[0],names[1]]]\n",
    "y_train = np.ravel(y_train)\n",
    "print(y_train)\n"
   ]
  },
  {
   "attachments": {},
   "cell_type": "markdown",
   "metadata": {},
   "source": [
    "### Build the model from the training set\n",
    "- show boundaries for the trained model.\n",
    "- points from the training set are labeled based on the car models"
   ]
  },
  {
   "cell_type": "code",
   "execution_count": null,
   "metadata": {},
   "outputs": [],
   "source": [
    "knn = KNeighborsClassifier(n_neighbors=1, weights=\"distance\")\n",
    "knn.fit(X2d, y_train)\n",
    "_, ax = plt.subplots()\n",
    "\n",
    "DecisionBoundaryDisplay.from_estimator(\n",
    "    knn,\n",
    "    X2d,\n",
    "    ax=ax,\n",
    "    response_method=\"predict\",\n",
    "    plot_method=\"pcolormesh\",\n",
    "    xlabel=names[0],\n",
    "    ylabel=names[1],\n",
    "    shading=\"auto\",\n",
    ")\n",
    "\n",
    "# Plot also the training points\n",
    "sns.scatterplot(\n",
    "    x=X2d[names[0]],\n",
    "    y=X2d[names[1]],\n",
    "    hue=y_train,\n",
    "    alpha=1.0,\n",
    "    edgecolor=\"black\",\n",
    ")\n",
    "plt.show()\n"
   ]
  },
  {
   "attachments": {},
   "cell_type": "markdown",
   "metadata": {},
   "source": [
    "# Assess accuracy for the sample KNN model"
   ]
  },
  {
   "cell_type": "code",
   "execution_count": null,
   "metadata": {},
   "outputs": [],
   "source": [
    "arr = np.array([])\n",
    "y_test = y_test.squeeze()\n",
    "for n in range(1,21):\n",
    "    knn = KNeighborsClassifier(n_neighbors=n)\n",
    "    knn.fit(X_train, y_train)\n",
    "    y_predict = knn.predict(X_test)\n",
    "    m = np.mean(y_predict == y_test)\n",
    "    arr = np.append(arr, np.array(m))\n",
    "plt.plot(range(1,arr.size+1), arr)\n",
    "plt.show()\n"
   ]
  },
  {
   "cell_type": "code",
   "execution_count": null,
   "metadata": {},
   "outputs": [],
   "source": []
  },
  {
   "cell_type": "code",
   "execution_count": null,
   "metadata": {},
   "outputs": [],
   "source": [
    "misclassified = y_test[y_test != y_predict]\n",
    "names = misclassified.unique()\n",
    "sum = 0\n",
    "error_counts = np.array([])\n",
    "name_counts = np.array([])\n",
    "for name in names:\n",
    "    errors = misclassified[misclassified == name].shape[0]\n",
    "    sum += errors\n",
    "    error_counts = np.append(error_counts, np.array(errors))\n",
    "    name_total = y_test[y_test == name].shape[0]\n",
    "    name_counts = np.append(name_counts, np.array(name_total))\n",
    "display(misclassified.unique(), misclassified.shape, sum)\n",
    "\n",
    "print(error_counts / name_counts)\n",
    "error_percentage = 100 * error_counts / name_counts\n",
    "\n",
    "\n",
    "\n",
    "# Plot misclassifications\n",
    "plt.figure(figsize=(15, 5))\n",
    "plt.bar(range(error_counts.size), height=error_counts, align='edge', width=0.2)\n",
    "plt.xticks(range(error_counts.size), misclassified.unique(), rotation=70)\n",
    "plt.show()\n",
    "\n",
    "plt.figure(figsize=(15, 5))\n",
    "plt.bar(range(error_counts.size), height=error_percentage, align='edge', width=0.2)\n",
    "plt.xticks(range(error_counts.size), misclassified.unique(), rotation=70)\n",
    "plt.show()"
   ]
  }
 ],
 "metadata": {
  "kernelspec": {
   "display_name": "Python 3.10.8 ('env-infs768': venv)",
   "language": "python",
   "name": "python3"
  },
  "language_info": {
   "codemirror_mode": {
    "name": "ipython",
    "version": 3
   },
   "file_extension": ".py",
   "mimetype": "text/x-python",
   "name": "python",
   "nbconvert_exporter": "python",
   "pygments_lexer": "ipython3",
   "version": "3.10.8"
  },
  "orig_nbformat": 4,
  "vscode": {
   "interpreter": {
    "hash": "feee0bb46bc5f573d381279186e924027c4c9cdcd2402b131ef669d4ba3ec56e"
   }
  }
 },
 "nbformat": 4,
 "nbformat_minor": 2
}
