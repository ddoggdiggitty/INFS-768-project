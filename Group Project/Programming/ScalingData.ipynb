{
 "cells": [
  {
   "cell_type": "code",
   "execution_count": 21,
   "metadata": {},
   "outputs": [],
   "source": [
    "# Imports\n",
    "import pandas as pd\n",
    "from logging import error\n",
    "# Import datatypes for parameter type specification\n",
    "from pandas.core import frame, series\n",
    "from sklearn.preprocessing import StandardScaler"
   ]
  },
  {
   "cell_type": "code",
   "execution_count": 22,
   "metadata": {},
   "outputs": [],
   "source": [
    "df = pd.read_csv(\"clean1_Ford.csv\")\n",
    "df2 = pd.read_csv(\"clean2_Ford.csv\")"
   ]
  },
  {
   "attachments": {},
   "cell_type": "markdown",
   "metadata": {},
   "source": [
    "# Scale the data"
   ]
  },
  {
   "cell_type": "code",
   "execution_count": 23,
   "metadata": {},
   "outputs": [],
   "source": [
    "# scale numeric data with a scale factor\n",
    "def scale(df:frame.DataFrame,\n",
    "          scaleFactor:int=1) -> dict:\n",
    "    if(type(df)!=frame.DataFrame):\n",
    "        return error(msg=\"Error! variable passed to the 'dataframe' parameter is not a dataframe\")\n",
    "    min = df.min()\n",
    "    max = df.max()\n",
    "    df = scaleFactor * (df - min) / (max - min)\n",
    "    return dict(df=df, min=min, max=max, scaleFactor=scaleFactor)\n",
    "\n",
    "def scale_inverse(scaleItem:dict) -> frame.DataFrame:\n",
    "    min = scaleItem.get(\"min\")\n",
    "    max = scaleItem.get(\"max\")\n",
    "    scaleFactor = scaleItem.get(\"scaleFactor\")\n",
    "    df = scaleItem.get(\"df\")\n",
    "    return df*(max-min)/scaleFactor + min\n",
    "\n",
    "def scale_inverse(df:frame.DataFrame,\n",
    "                    min:series.Series,\n",
    "                    max:series.Series, \n",
    "                    scaleFactor:int=1) -> frame.DataFrame:\n",
    "    if(type(df)!=frame.DataFrame):\n",
    "        return error(msg=\"Error! variable passed to the 'df' parameter is not a dataframe\")\n",
    "    if(type(min)!=series.Series):\n",
    "        return error(msg=\"Error! variable passed to the 'min' parameter is not a series\")\n",
    "    if(type(max)!=frame.DataFrame):\n",
    "        return error(msg=\"Error! variable passed to the 'max' parameter is not a series\")\n",
    "    if(type(scaleFactor)!=int):\n",
    "        return error(msg=\"Error! variable passed to the 'scaleFactor' parameter is not an integer\")\n",
    "    return df*(max-min)/scaleFactor + min"
   ]
  },
  {
   "cell_type": "code",
   "execution_count": 24,
   "metadata": {},
   "outputs": [],
   "source": [
    "# Get the 'scaleItem' object from the custom scale() function. \n",
    "scaleItem = scale(df.drop([\"model\"], axis=1))\n",
    "\n",
    "# Retrieve the dataframe stored in the scaleItem object \n",
    "X_scaled = scaleItem.get(\"df\")\n",
    "MIN = scaleItem.get(\"min\")\n",
    "MAX = scaleItem.get(\"max\")\n",
    "\n",
    "X_scaled.to_csv(\"X_scaled.csv\", index=False)\n",
    "MIN.to_csv(\"MIN.csv\", index=False)\n",
    "MAX.to_csv(\"MAX.csv\", index=False)\n",
    "\n",
    "y = df.model\n",
    "y.to_csv(\"y.csv\", index=False)"
   ]
  },
  {
   "cell_type": "code",
   "execution_count": 25,
   "metadata": {},
   "outputs": [],
   "source": [
    "scaler = StandardScaler()"
   ]
  }
 ],
 "metadata": {
  "kernelspec": {
   "display_name": "Python 3.11.0 ('env-infs768': venv)",
   "language": "python",
   "name": "python3"
  },
  "language_info": {
   "codemirror_mode": {
    "name": "ipython",
    "version": 3
   },
   "file_extension": ".py",
   "mimetype": "text/x-python",
   "name": "python",
   "nbconvert_exporter": "python",
   "pygments_lexer": "ipython3",
   "version": "3.11.0"
  },
  "orig_nbformat": 4,
  "vscode": {
   "interpreter": {
    "hash": "8bd121de4aeb61ea8b61853af45da9c0e9dec6b603fbe91f85bea4ba32a7bbe5"
   }
  }
 },
 "nbformat": 4,
 "nbformat_minor": 2
}
