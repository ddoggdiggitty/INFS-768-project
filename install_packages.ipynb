{
 "cells": [
  {
   "attachments": {},
   "cell_type": "markdown",
   "metadata": {},
   "source": [
    "# Install packages as specified by the *requirements.txt* file\n",
    "Make sure a fresh virtual environment is selected for the notebook kernel."
   ]
  },
  {
   "cell_type": "code",
   "execution_count": 1,
   "metadata": {},
   "outputs": [
    {
     "name": "stdout",
     "output_type": "stream",
     "text": [
      "Processing c:\\pythonvirtualenvs\\.lxml\\lxml-4.9.0-cp311-cp311-win_amd64.whlNote: you may need to restart the kernel to use updated packages.\n",
      "\n",
      "Requirement already satisfied: anyio==3.6.2 in c:\\pythonvirtualenvs\\.venv\\lib\\site-packages (from -r requirements.txt (line 1)) (3.6.2)\n",
      "Requirement already satisfied: argon2-cffi==21.3.0 in c:\\pythonvirtualenvs\\.venv\\lib\\site-packages (from -r requirements.txt (line 2)) (21.3.0)\n",
      "Requirement already satisfied: argon2-cffi-bindings==21.2.0 in c:\\pythonvirtualenvs\\.venv\\lib\\site-packages (from -r requirements.txt (line 3)) (21.2.0)\n",
      "Requirement already satisfied: asttokens==2.1.0 in c:\\pythonvirtualenvs\\.venv\\lib\\site-packages (from -r requirements.txt (line 4)) (2.1.0)\n",
      "Requirement already satisfied: attrs==22.1.0 in c:\\pythonvirtualenvs\\.venv\\lib\\site-packages (from -r requirements.txt (line 5)) (22.1.0)\n",
      "Requirement already satisfied: Babel==2.11.0 in c:\\pythonvirtualenvs\\.venv\\lib\\site-packages (from -r requirements.txt (line 6)) (2.11.0)\n",
      "Requirement already satisfied: backcall==0.2.0 in c:\\pythonvirtualenvs\\.venv\\lib\\site-packages (from -r requirements.txt (line 7)) (0.2.0)\n",
      "Requirement already satisfied: beautifulsoup4==4.11.1 in c:\\pythonvirtualenvs\\.venv\\lib\\site-packages (from -r requirements.txt (line 8)) (4.11.1)\n",
      "Requirement already satisfied: bleach==5.0.1 in c:\\pythonvirtualenvs\\.venv\\lib\\site-packages (from -r requirements.txt (line 9)) (5.0.1)\n",
      "Requirement already satisfied: certifi==2022.9.24 in c:\\pythonvirtualenvs\\.venv\\lib\\site-packages (from -r requirements.txt (line 10)) (2022.9.24)\n",
      "Requirement already satisfied: cffi==1.15.1 in c:\\pythonvirtualenvs\\.venv\\lib\\site-packages (from -r requirements.txt (line 11)) (1.15.1)\n",
      "Requirement already satisfied: charset-normalizer==2.1.1 in c:\\pythonvirtualenvs\\.venv\\lib\\site-packages (from -r requirements.txt (line 12)) (2.1.1)\n",
      "Requirement already satisfied: colorama==0.4.6 in c:\\pythonvirtualenvs\\.venv\\lib\\site-packages (from -r requirements.txt (line 13)) (0.4.6)\n",
      "Requirement already satisfied: contourpy==1.0.6 in c:\\pythonvirtualenvs\\.venv\\lib\\site-packages (from -r requirements.txt (line 14)) (1.0.6)\n",
      "Requirement already satisfied: cycler==0.11.0 in c:\\pythonvirtualenvs\\.venv\\lib\\site-packages (from -r requirements.txt (line 15)) (0.11.0)\n",
      "Requirement already satisfied: debugpy==1.6.3 in c:\\pythonvirtualenvs\\.venv\\lib\\site-packages (from -r requirements.txt (line 16)) (1.6.3)\n",
      "Requirement already satisfied: decorator==5.1.1 in c:\\pythonvirtualenvs\\.venv\\lib\\site-packages (from -r requirements.txt (line 17)) (5.1.1)\n",
      "Requirement already satisfied: defusedxml==0.7.1 in c:\\pythonvirtualenvs\\.venv\\lib\\site-packages (from -r requirements.txt (line 18)) (0.7.1)\n",
      "Requirement already satisfied: entrypoints==0.4 in c:\\pythonvirtualenvs\\.venv\\lib\\site-packages (from -r requirements.txt (line 19)) (0.4)\n",
      "Requirement already satisfied: et-xmlfile==1.1.0 in c:\\pythonvirtualenvs\\.venv\\lib\\site-packages (from -r requirements.txt (line 20)) (1.1.0)\n",
      "Requirement already satisfied: executing==1.2.0 in c:\\pythonvirtualenvs\\.venv\\lib\\site-packages (from -r requirements.txt (line 21)) (1.2.0)\n",
      "Requirement already satisfied: fastjsonschema==2.16.2 in c:\\pythonvirtualenvs\\.venv\\lib\\site-packages (from -r requirements.txt (line 22)) (2.16.2)\n",
      "Requirement already satisfied: fonttools==4.38.0 in c:\\pythonvirtualenvs\\.venv\\lib\\site-packages (from -r requirements.txt (line 23)) (4.38.0)\n",
      "Requirement already satisfied: graphviz==0.20.1 in c:\\pythonvirtualenvs\\.venv\\lib\\site-packages (from -r requirements.txt (line 24)) (0.20.1)\n",
      "Requirement already satisfied: idna==3.4 in c:\\pythonvirtualenvs\\.venv\\lib\\site-packages (from -r requirements.txt (line 25)) (3.4)\n",
      "Requirement already satisfied: imageio==2.22.4 in c:\\pythonvirtualenvs\\.venv\\lib\\site-packages (from -r requirements.txt (line 26)) (2.22.4)\n",
      "Requirement already satisfied: ipykernel==6.17.0 in c:\\pythonvirtualenvs\\.venv\\lib\\site-packages (from -r requirements.txt (line 27)) (6.17.0)\n",
      "Requirement already satisfied: ipython==8.6.0 in c:\\pythonvirtualenvs\\.venv\\lib\\site-packages (from -r requirements.txt (line 28)) (8.6.0)\n",
      "Requirement already satisfied: ipython-genutils==0.2.0 in c:\\pythonvirtualenvs\\.venv\\lib\\site-packages (from -r requirements.txt (line 29)) (0.2.0)\n",
      "Requirement already satisfied: jedi==0.18.1 in c:\\pythonvirtualenvs\\.venv\\lib\\site-packages (from -r requirements.txt (line 30)) (0.18.1)\n",
      "Requirement already satisfied: Jinja2==3.1.2 in c:\\pythonvirtualenvs\\.venv\\lib\\site-packages (from -r requirements.txt (line 31)) (3.1.2)\n",
      "Requirement already satisfied: joblib==1.1.0 in c:\\pythonvirtualenvs\\.venv\\lib\\site-packages (from -r requirements.txt (line 32)) (1.1.0)\n",
      "Requirement already satisfied: json5==0.9.10 in c:\\pythonvirtualenvs\\.venv\\lib\\site-packages (from -r requirements.txt (line 33)) (0.9.10)\n",
      "Requirement already satisfied: jsonschema==4.17.0 in c:\\pythonvirtualenvs\\.venv\\lib\\site-packages (from -r requirements.txt (line 34)) (4.17.0)\n",
      "Requirement already satisfied: jupyter-contrib-core==0.4.2 in c:\\pythonvirtualenvs\\.venv\\lib\\site-packages (from -r requirements.txt (line 35)) (0.4.2)\n",
      "Requirement already satisfied: jupyter-contrib-nbextensions==0.7.0 in c:\\pythonvirtualenvs\\.venv\\lib\\site-packages (from -r requirements.txt (line 36)) (0.7.0)\n",
      "Requirement already satisfied: jupyter-highlight-selected-word==0.2.0 in c:\\pythonvirtualenvs\\.venv\\lib\\site-packages (from -r requirements.txt (line 37)) (0.2.0)\n",
      "Requirement already satisfied: jupyter-nbextensions-configurator==0.6.1 in c:\\pythonvirtualenvs\\.venv\\lib\\site-packages (from -r requirements.txt (line 38)) (0.6.1)\n",
      "Requirement already satisfied: jupyter-server==1.23.2 in c:\\pythonvirtualenvs\\.venv\\lib\\site-packages (from -r requirements.txt (line 39)) (1.23.2)\n",
      "Requirement already satisfied: jupyter_client==7.4.4 in c:\\pythonvirtualenvs\\.venv\\lib\\site-packages (from -r requirements.txt (line 40)) (7.4.4)\n",
      "Requirement already satisfied: jupyter_core==4.11.2 in c:\\pythonvirtualenvs\\.venv\\lib\\site-packages (from -r requirements.txt (line 41)) (4.11.2)\n",
      "Requirement already satisfied: jupyterlab==3.5.0 in c:\\pythonvirtualenvs\\.venv\\lib\\site-packages (from -r requirements.txt (line 42)) (3.5.0)\n",
      "Requirement already satisfied: jupyterlab-pygments==0.2.2 in c:\\pythonvirtualenvs\\.venv\\lib\\site-packages (from -r requirements.txt (line 43)) (0.2.2)\n",
      "Requirement already satisfied: jupyterlab_server==2.16.3 in c:\\pythonvirtualenvs\\.venv\\lib\\site-packages (from -r requirements.txt (line 44)) (2.16.3)\n",
      "Requirement already satisfied: kiwisolver==1.4.4 in c:\\pythonvirtualenvs\\.venv\\lib\\site-packages (from -r requirements.txt (line 45)) (1.4.4)\n",
      "Requirement already satisfied: MarkupSafe==2.1.1 in c:\\pythonvirtualenvs\\.venv\\lib\\site-packages (from -r requirements.txt (line 47)) (2.1.1)\n",
      "Requirement already satisfied: matplotlib==3.6.2 in c:\\pythonvirtualenvs\\.venv\\lib\\site-packages (from -r requirements.txt (line 48)) (3.6.2)\n",
      "Requirement already satisfied: matplotlib-inline==0.1.6 in c:\\pythonvirtualenvs\\.venv\\lib\\site-packages (from -r requirements.txt (line 49)) (0.1.6)\n",
      "Requirement already satisfied: mglearn==0.1.9 in c:\\pythonvirtualenvs\\.venv\\lib\\site-packages (from -r requirements.txt (line 50)) (0.1.9)\n",
      "Requirement already satisfied: mistune==2.0.4 in c:\\pythonvirtualenvs\\.venv\\lib\\site-packages (from -r requirements.txt (line 51)) (2.0.4)\n",
      "Requirement already satisfied: nbclassic==0.4.8 in c:\\pythonvirtualenvs\\.venv\\lib\\site-packages (from -r requirements.txt (line 52)) (0.4.8)\n",
      "Requirement already satisfied: nbclient==0.7.0 in c:\\pythonvirtualenvs\\.venv\\lib\\site-packages (from -r requirements.txt (line 53)) (0.7.0)\n",
      "Requirement already satisfied: nbconvert==7.2.5 in c:\\pythonvirtualenvs\\.venv\\lib\\site-packages (from -r requirements.txt (line 54)) (7.2.5)\n",
      "Requirement already satisfied: nbformat==5.7.0 in c:\\pythonvirtualenvs\\.venv\\lib\\site-packages (from -r requirements.txt (line 55)) (5.7.0)\n",
      "Requirement already satisfied: nest-asyncio==1.5.6 in c:\\pythonvirtualenvs\\.venv\\lib\\site-packages (from -r requirements.txt (line 56)) (1.5.6)\n",
      "Requirement already satisfied: notebook==6.5.2 in c:\\pythonvirtualenvs\\.venv\\lib\\site-packages (from -r requirements.txt (line 57)) (6.5.2)\n",
      "Requirement already satisfied: notebook_shim==0.2.2 in c:\\pythonvirtualenvs\\.venv\\lib\\site-packages (from -r requirements.txt (line 58)) (0.2.2)\n",
      "Requirement already satisfied: numpy==1.23.4 in c:\\pythonvirtualenvs\\.venv\\lib\\site-packages (from -r requirements.txt (line 59)) (1.23.4)\n",
      "Requirement already satisfied: openpyxl==3.0.10 in c:\\pythonvirtualenvs\\.venv\\lib\\site-packages (from -r requirements.txt (line 60)) (3.0.10)\n",
      "Requirement already satisfied: packaging==21.3 in c:\\pythonvirtualenvs\\.venv\\lib\\site-packages (from -r requirements.txt (line 61)) (21.3)\n",
      "Requirement already satisfied: pandas==1.5.1 in c:\\pythonvirtualenvs\\.venv\\lib\\site-packages (from -r requirements.txt (line 62)) (1.5.1)\n",
      "Requirement already satisfied: pandocfilters==1.5.0 in c:\\pythonvirtualenvs\\.venv\\lib\\site-packages (from -r requirements.txt (line 63)) (1.5.0)\n",
      "Requirement already satisfied: parso==0.8.3 in c:\\pythonvirtualenvs\\.venv\\lib\\site-packages (from -r requirements.txt (line 64)) (0.8.3)\n",
      "Requirement already satisfied: pickleshare==0.7.5 in c:\\pythonvirtualenvs\\.venv\\lib\\site-packages (from -r requirements.txt (line 65)) (0.7.5)\n",
      "Requirement already satisfied: Pillow==9.3.0 in c:\\pythonvirtualenvs\\.venv\\lib\\site-packages (from -r requirements.txt (line 66)) (9.3.0)\n",
      "Requirement already satisfied: prometheus-client==0.15.0 in c:\\pythonvirtualenvs\\.venv\\lib\\site-packages (from -r requirements.txt (line 67)) (0.15.0)\n",
      "Requirement already satisfied: prompt-toolkit==3.0.32 in c:\\pythonvirtualenvs\\.venv\\lib\\site-packages (from -r requirements.txt (line 68)) (3.0.32)\n",
      "Requirement already satisfied: psutil==5.9.4 in c:\\pythonvirtualenvs\\.venv\\lib\\site-packages (from -r requirements.txt (line 69)) (5.9.4)\n",
      "Requirement already satisfied: pure-eval==0.2.2 in c:\\pythonvirtualenvs\\.venv\\lib\\site-packages (from -r requirements.txt (line 70)) (0.2.2)\n",
      "Requirement already satisfied: pycparser==2.21 in c:\\pythonvirtualenvs\\.venv\\lib\\site-packages (from -r requirements.txt (line 71)) (2.21)\n",
      "Requirement already satisfied: Pygments==2.13.0 in c:\\pythonvirtualenvs\\.venv\\lib\\site-packages (from -r requirements.txt (line 72)) (2.13.0)\n",
      "Requirement already satisfied: pyparsing==3.0.9 in c:\\pythonvirtualenvs\\.venv\\lib\\site-packages (from -r requirements.txt (line 73)) (3.0.9)\n",
      "Requirement already satisfied: pyrsistent==0.19.2 in c:\\pythonvirtualenvs\\.venv\\lib\\site-packages (from -r requirements.txt (line 74)) (0.19.2)\n",
      "Requirement already satisfied: python-dateutil==2.8.2 in c:\\pythonvirtualenvs\\.venv\\lib\\site-packages (from -r requirements.txt (line 75)) (2.8.2)\n",
      "Requirement already satisfied: pytz==2022.6 in c:\\pythonvirtualenvs\\.venv\\lib\\site-packages (from -r requirements.txt (line 76)) (2022.6)\n",
      "Requirement already satisfied: pywin32==305 in c:\\pythonvirtualenvs\\.venv\\lib\\site-packages (from -r requirements.txt (line 77)) (305)\n",
      "Requirement already satisfied: pywinpty==2.0.9 in c:\\pythonvirtualenvs\\.venv\\lib\\site-packages (from -r requirements.txt (line 78)) (2.0.9)\n",
      "Requirement already satisfied: PyYAML==6.0 in c:\\pythonvirtualenvs\\.venv\\lib\\site-packages (from -r requirements.txt (line 79)) (6.0)\n",
      "Requirement already satisfied: pyzmq==24.0.1 in c:\\pythonvirtualenvs\\.venv\\lib\\site-packages (from -r requirements.txt (line 80)) (24.0.1)\n",
      "Requirement already satisfied: requests==2.28.1 in c:\\pythonvirtualenvs\\.venv\\lib\\site-packages (from -r requirements.txt (line 81)) (2.28.1)\n",
      "Requirement already satisfied: scikit-learn==1.1.3 in c:\\pythonvirtualenvs\\.venv\\lib\\site-packages (from -r requirements.txt (line 82)) (1.1.3)\n",
      "Requirement already satisfied: scipy==1.9.3 in c:\\pythonvirtualenvs\\.venv\\lib\\site-packages (from -r requirements.txt (line 83)) (1.9.3)\n",
      "Requirement already satisfied: seaborn==0.12.1 in c:\\pythonvirtualenvs\\.venv\\lib\\site-packages (from -r requirements.txt (line 84)) (0.12.1)\n",
      "Requirement already satisfied: Send2Trash==1.8.0 in c:\\pythonvirtualenvs\\.venv\\lib\\site-packages (from -r requirements.txt (line 85)) (1.8.0)\n",
      "Requirement already satisfied: six==1.16.0 in c:\\pythonvirtualenvs\\.venv\\lib\\site-packages (from -r requirements.txt (line 86)) (1.16.0)\n",
      "Requirement already satisfied: sniffio==1.3.0 in c:\\pythonvirtualenvs\\.venv\\lib\\site-packages (from -r requirements.txt (line 87)) (1.3.0)\n",
      "Requirement already satisfied: soupsieve==2.3.2.post1 in c:\\pythonvirtualenvs\\.venv\\lib\\site-packages (from -r requirements.txt (line 88)) (2.3.2.post1)\n",
      "Requirement already satisfied: stack-data==0.6.0 in c:\\pythonvirtualenvs\\.venv\\lib\\site-packages (from -r requirements.txt (line 89)) (0.6.0)\n",
      "Requirement already satisfied: terminado==0.17.0 in c:\\pythonvirtualenvs\\.venv\\lib\\site-packages (from -r requirements.txt (line 90)) (0.17.0)\n",
      "Requirement already satisfied: threadpoolctl==3.1.0 in c:\\pythonvirtualenvs\\.venv\\lib\\site-packages (from -r requirements.txt (line 91)) (3.1.0)\n",
      "Requirement already satisfied: tinycss2==1.2.1 in c:\\pythonvirtualenvs\\.venv\\lib\\site-packages (from -r requirements.txt (line 92)) (1.2.1)\n",
      "Requirement already satisfied: tomli==2.0.1 in c:\\pythonvirtualenvs\\.venv\\lib\\site-packages (from -r requirements.txt (line 93)) (2.0.1)\n",
      "Requirement already satisfied: tornado==6.2 in c:\\pythonvirtualenvs\\.venv\\lib\\site-packages (from -r requirements.txt (line 94)) (6.2)\n",
      "Requirement already satisfied: traitlets==5.5.0 in c:\\pythonvirtualenvs\\.venv\\lib\\site-packages (from -r requirements.txt (line 95)) (5.5.0)\n",
      "Requirement already satisfied: urllib3==1.26.12 in c:\\pythonvirtualenvs\\.venv\\lib\\site-packages (from -r requirements.txt (line 96)) (1.26.12)\n",
      "Requirement already satisfied: wcwidth==0.2.5 in c:\\pythonvirtualenvs\\.venv\\lib\\site-packages (from -r requirements.txt (line 97)) (0.2.5)\n",
      "Requirement already satisfied: webencodings==0.5.1 in c:\\pythonvirtualenvs\\.venv\\lib\\site-packages (from -r requirements.txt (line 98)) (0.5.1)\n",
      "Requirement already satisfied: websocket-client==1.4.2 in c:\\pythonvirtualenvs\\.venv\\lib\\site-packages (from -r requirements.txt (line 99)) (1.4.2)\n",
      "Requirement already satisfied: setuptools in c:\\pythonvirtualenvs\\.venv\\lib\\site-packages (from jupyter-contrib-core==0.4.2->-r requirements.txt (line 35)) (65.5.0)\n",
      "lxml is already installed with the same version as the provided wheel. Use --force-reinstall to force an installation of the wheel.\n"
     ]
    }
   ],
   "source": [
    "%pip install -r requirements.txt\n",
    "# %pip list"
   ]
  }
 ],
 "metadata": {
  "kernelspec": {
   "display_name": ".venv",
   "language": "python",
   "name": "python3"
  },
  "language_info": {
   "codemirror_mode": {
    "name": "ipython",
    "version": 3
   },
   "file_extension": ".py",
   "mimetype": "text/x-python",
   "name": "python",
   "nbconvert_exporter": "python",
   "pygments_lexer": "ipython3",
   "version": "3.11.1"
  },
  "orig_nbformat": 4,
  "vscode": {
   "interpreter": {
    "hash": "bcf3bf812cba866431e2be9fc1fac09f04593a3cb86c519ee7f3a5a90cfdc752"
   }
  }
 },
 "nbformat": 4,
 "nbformat_minor": 2
}
